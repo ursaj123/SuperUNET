{
 "cells": [
  {
   "cell_type": "markdown",
   "metadata": {},
   "source": [
    "## Imports"
   ]
  },
  {
   "cell_type": "code",
   "execution_count": 4,
   "metadata": {},
   "outputs": [
    {
     "name": "stderr",
     "output_type": "stream",
     "text": [
      "c:\\Users\\Ayush\\anaconda3\\envs\\pytorch\\lib\\site-packages\\torchvision\\io\\image.py:13: UserWarning: Failed to load image Python extension: '[WinError 127] The specified procedure could not be found'If you don't plan on using image functionality from `torchvision.io`, you can ignore this warning. Otherwise, there might be something wrong with your environment. Did you have `libjpeg` or `libpng` installed before building `torchvision` from source?\n",
      "  warn(\n"
     ]
    }
   ],
   "source": [
    "import numpy as np\n",
    "import pandas as pd\n",
    "import matplotlib.pyplot as plt\n",
    "import os \n",
    "import tqdm\n",
    "import argparse\n",
    "import wandb\n",
    "from time import time\n",
    "import datetime\n",
    "import sys\n",
    "\n",
    "import torch\n",
    "import torch.nn as nn\n",
    "import torchvision\n",
    "import PIL\n",
    "from PIL import Image\n",
    "import torchvision.transforms as transforms\n",
    "import torch.optim as optim\n",
    "import albumentations as A\n",
    "from albumentations.pytorch import ToTensorV2\n",
    "from torch.utils.data import Dataset, DataLoader\n",
    "from sklearn.model_selection import train_test_split\n",
    "from sklearn.metrics import confusion_matrix"
   ]
  },
  {
   "cell_type": "markdown",
   "metadata": {},
   "source": [
    "## Data Utilities\n",
    "1. Image loading and saving utilities\n",
    "2. Data Augmentation\n",
    "3. Splitting the data into train and validation sets\n",
    "4. Custom Dataset and Dataloaders\n"
   ]
  },
  {
   "cell_type": "markdown",
   "metadata": {},
   "source": [
    "### 1. Image loading and saving utilities"
   ]
  },
  {
   "cell_type": "code",
   "execution_count": 5,
   "metadata": {},
   "outputs": [],
   "source": [
    "def load_image(img_path):\n",
    "    img = Image.open(img_path)\n",
    "    img = img.convert('RGB')\n",
    "    img_arr = np.array(img)\n",
    "    return img_arr"
   ]
  },
  {
   "cell_type": "code",
   "execution_count": 6,
   "metadata": {},
   "outputs": [],
   "source": [
    "def save_image(img_arr, img_path):\n",
    "    img = Image.fromarray(img_arr)\n",
    "    img.save(img_path)"
   ]
  },
  {
   "cell_type": "markdown",
   "metadata": {},
   "source": [
    "### 2. Data Augmentation\n",
    "![data_aug](markdown_file/data_augmentation.png)"
   ]
  },
  {
   "cell_type": "code",
   "execution_count": 7,
   "metadata": {},
   "outputs": [],
   "source": [
    "train_transform = A.Compose([\n",
    "    A.Resize(width=528, height=528), # changing to 528x528\n",
    "    A.RandomCrop(width=48, height=48), # randomly cropping patches of 48x48\n",
    "    A.Rotate(limit=20, p=0.5), # geometric transformation\n",
    "    A.GaussNoise(p=0.5), # adding noise\n",
    "    A.GaussianBlur(p=0.5), # smoothing\n",
    "    A.RandomBrightnessContrast(p=0.5), # changing perturbations\n",
    "    ToTensorV2() # converting to tensor\n",
    "])\n",
    "\n",
    "\n",
    "# will be using sliding window technique to generate prediction for full images during validation\n",
    "val_transform = A.Compose([\n",
    "    A.Resize(width=528, height=528),\n",
    "    ToTensorV2()\n",
    "])\n",
    "    \n",
    "    "
   ]
  },
  {
   "cell_type": "markdown",
   "metadata": {},
   "source": [
    "### 3. Splitting the data into train and validation sets"
   ]
  },
  {
   "cell_type": "code",
   "execution_count": 5,
   "metadata": {},
   "outputs": [],
   "source": [
    "def split(images_path, masks_path, train_size=0.9, random_state=42):\n",
    "    num_samples = int(train_size*len(os.listdir(images_path)))\n",
    "    images_list = np.array(os.listdir(images_path))\n",
    "    mask_list = np.array(os.listdir(masks_path))\n",
    "\n",
    "    indices = np.arange(len(os.listdir(images_path)))\n",
    "    np.random.seed(random_state)\n",
    "    train_indices = np.random.choice(indices, num_samples, replace=False)\n",
    "    val_indices = np.array(list(set(indices) - set(train_indices)))\n",
    "    return list(images_list[train_indices]), list(images_list[val_indices]), list(\n",
    "        mask_list[train_indices]), list(mask_list[val_indices])"
   ]
  },
  {
   "cell_type": "markdown",
   "metadata": {},
   "source": [
    "### 4. Custom Dataset and Dataloaders"
   ]
  },
  {
   "cell_type": "code",
   "execution_count": 6,
   "metadata": {},
   "outputs": [],
   "source": [
    "class CustomDataset(torch.utils.data.Dataset):\n",
    "    def __init__(self, images_dir, masks_dir, images_list, masks_list, transform=None,\n",
    "                 mode='train', max_samples=1000):\n",
    "        self.images_dir = images_dir\n",
    "        self.masks_dir = masks_dir\n",
    "        self.images_list = images_list\n",
    "        self.masks_list = masks_list\n",
    "        self.transform = transform\n",
    "        self.mode = mode\n",
    "        self.max_samples = max_samples\n",
    "\n",
    "    def __len__(self):\n",
    "        if self.mode == 'train':\n",
    "            return max(self.max_samples, len(self.images_list))\n",
    "        else:\n",
    "            return len(self.images_list)\n",
    "    \n",
    "    def __getitem__(self, idx):\n",
    "        if self.mode == 'train':\n",
    "            idx = idx%len(self.images_list)\n",
    "        img_path = os.path.join(self.images_dir, self.images_list[idx])\n",
    "        mask_path = self.images_list[idx].replace('training.tif', 'manual1.gif')\n",
    "        mask_path = os.path.join(self.masks_dir, mask_path)\n",
    "\n",
    "        img_arr = load_image(img_path)\n",
    "        mask_arr = load_image(mask_path)\n",
    "        mask_arr = mask_arr[:,:,0]\n",
    "        mask_arr[mask_arr==255] = 1\n",
    "\n",
    "        if self.transform is not None:\n",
    "            transformed = self.transform(image=img_arr, mask=mask_arr)\n",
    "            img_arr = transformed['image']\n",
    "            mask_arr = transformed['mask']\n",
    "        \n",
    "        return {'img':img_arr, 'mask':mask_arr}"
   ]
  },
  {
   "cell_type": "code",
   "execution_count": 7,
   "metadata": {},
   "outputs": [],
   "source": [
    "images_paths, masks_paths = 'data/DRIVE/training/images', 'data/DRIVE/training/1st_manual'  \n",
    "train_images_list, val_images_split, train_masks_list, val_masks_list = split(\n",
    "    images_paths, masks_paths)"
   ]
  },
  {
   "cell_type": "code",
   "execution_count": 8,
   "metadata": {},
   "outputs": [
    {
     "name": "stdout",
     "output_type": "stream",
     "text": [
      "1000\n"
     ]
    },
    {
     "data": {
      "image/png": "[encoded data removed]",
      "text/plain": [
       "<Figure size 640x480 with 2 Axes>"
      ]
     },
     "metadata": {},
     "output_type": "display_data"
    }
   ],
   "source": [
    "train_dataset = CustomDataset(images_dir=images_paths, masks_dir=masks_paths, images_list=train_images_list, \n",
    "                              masks_list=train_masks_list,\n",
    "                              mode='train',\n",
    "                              transform=train_transform)\n",
    "\n",
    "print(len(train_dataset))\n",
    "idx = 10\n",
    "img_arr, mask_arr = train_dataset[idx]['img'], train_dataset[idx]['mask']\n",
    "\n",
    "\n",
    "plt.subplot(1,2,1)\n",
    "plt.imshow(img_arr.numpy().transpose(1,2,0))\n",
    "plt.title('Image')\n",
    "plt.axis('off')\n",
    "\n",
    "plt.subplot(1,2,2)\n",
    "plt.imshow(mask_arr.numpy(), cmap='gray')\n",
    "plt.title('Mask') \n",
    "plt.axis('off')\n",
    "plt.show()"
   ]
  },
  {
   "cell_type": "code",
   "execution_count": 9,
   "metadata": {},
   "outputs": [
    {
     "name": "stdout",
     "output_type": "stream",
     "text": [
      "2\n",
      "torch.Size([3, 528, 528]) torch.Size([528, 528])\n"
     ]
    },
    {
     "data": {
      "image/png": "[encoded data removed]",
      "text/plain": [
       "<Figure size 640x480 with 2 Axes>"
      ]
     },
     "metadata": {},
     "output_type": "display_data"
    }
   ],
   "source": [
    "val_dataset = CustomDataset(images_dir=images_paths, masks_dir=masks_paths, images_list=val_images_split, \n",
    "                            masks_list=val_masks_list,\n",
    "                            mode='val',\n",
    "                            transform=val_transform)\n",
    "\n",
    "print(len(val_dataset))\n",
    "idx = 0\n",
    "img_arr, mask_arr = val_dataset[idx]['img'], val_dataset[idx]['mask']\n",
    "print(img_arr.shape, mask_arr.shape)\n",
    "\n",
    "plt.subplot(1,2,1)\n",
    "plt.imshow(img_arr.numpy().transpose(1,2,0))\n",
    "plt.title('Image')\n",
    "plt.axis('off')\n",
    "\n",
    "plt.subplot(1,2,2)\n",
    "plt.imshow(mask_arr.numpy(), cmap='gray')\n",
    "plt.title('Mask')\n",
    "plt.axis('off')\n",
    "plt.show()\n"
   ]
  },
  {
   "cell_type": "code",
   "execution_count": 10,
   "metadata": {},
   "outputs": [
    {
     "name": "stdout",
     "output_type": "stream",
     "text": [
      "32 2\n"
     ]
    },
    {
     "name": "stderr",
     "output_type": "stream",
     "text": [
      "sanity_check: 100%|\u001b[34m██████████\u001b[0m| 32/32 [00:15<00:00,  2.13it/s, a=torch.Size([8, 3, 48, 48]), b=torch.Size([8, 48, 48])]  \n"
     ]
    }
   ],
   "source": [
    "# now the data loader part\n",
    "train_loader = DataLoader(train_dataset, batch_size=32, shuffle=True)\n",
    "val_loader = DataLoader(val_dataset, batch_size=1, shuffle=False)\n",
    "print(len(train_loader), len(val_loader))\n",
    "\n",
    "# now we want to apply progress bar through tqdm\n",
    "batches = tqdm.tqdm(enumerate(train_loader, 0), 'sanity_check', total = len(train_loader), colour='blue')\n",
    "for i, batch in batches:\n",
    "    batches.set_postfix({'a':batch['img'].shape,'b':batch['mask'].shape})"
   ]
  },
  {
   "cell_type": "markdown",
   "metadata": {},
   "source": [
    "## Model Implementation\n",
    "1. ResnetBlock\n",
    "2. Squeeze and Excitation Block\n",
    "3. Fusion Upsampling Module\n",
    "4. Dynamic Receptive Field Module\n",
    "5. Super-UNET architecture:\n",
    "    - Downsample\n",
    "    - Upsample\n",
    "    - Full Architecture"
   ]
  },
  {
   "cell_type": "markdown",
   "metadata": {},
   "source": [
    "### 1. ResnetBlock\n",
    "![resblock](markdown_file/res_block.png)"
   ]
  },
  {
   "cell_type": "code",
   "execution_count": 11,
   "metadata": {},
   "outputs": [],
   "source": [
    "class resblock(nn.Module):\n",
    "    def __init__(self, in_channels, out_channels):\n",
    "        super(resblock, self).__init__()\n",
    "        self.skip_conv = nn.Conv2d(in_channels, out_channels, kernel_size=3, stride=1, padding=1)\n",
    "        self.conv1 = nn.Conv2d(in_channels, out_channels, kernel_size=3, stride=1, padding=1)\n",
    "        self.bn1 = nn.BatchNorm2d(out_channels)\n",
    "        self.conv2 = nn.Conv2d(out_channels, out_channels, kernel_size=3, stride=1, padding=1)\n",
    "        self.bn2 = nn.BatchNorm2d(out_channels)\n",
    "        self.relu = nn.ReLU()\n",
    "\n",
    "\n",
    "    def forward(self, x):\n",
    "        # this is the skip connection part\n",
    "        residual = x # shape (B, in_C, H, W)\n",
    "        residual = self.skip_conv(residual) # shape (B, out_C, H, W)\n",
    "\n",
    "        # this is the main part\n",
    "        out = self.conv1(x) # shape (B, out_C, H, W)\n",
    "        out = self.bn1(out) # shape (B, out_C, H, W)\n",
    "        out = self.relu(out) # shape (B, out_C, H, W)\n",
    "        out = self.conv2(out)  # shape (B, out_C, H, W)\n",
    "        out += residual # shape (B, out_C, H, W)\n",
    "        out = self.bn2(out)\n",
    "        out = self.relu(out)\n",
    "        return out\n"
   ]
  },
  {
   "cell_type": "code",
   "execution_count": 12,
   "metadata": {},
   "outputs": [],
   "source": [
    "# test_res = resblock(3, 8)\n",
    "# print(test_res)\n",
    "# x = torch.randn(1, 3, 48, 48)\n",
    "# out = test_res(x)\n",
    "# print(out.shape)"
   ]
  },
  {
   "cell_type": "markdown",
   "metadata": {},
   "source": [
    "### 2. Squeeze and Excitation Block\n",
    "![seblock](markdown_file/image.png)"
   ]
  },
  {
   "cell_type": "code",
   "execution_count": 13,
   "metadata": {},
   "outputs": [],
   "source": [
    "class squeeze_and_excitation(nn.Module):\n",
    "    def __init__(self, in_channels, r=2):\n",
    "        super(squeeze_and_excitation, self).__init__()\n",
    "        self.global_pool = nn.AdaptiveAvgPool2d(1)\n",
    "        self.fc1 = nn.Linear(in_channels, in_channels//r)\n",
    "        self.relu = nn.ReLU()\n",
    "        self.fc2 = nn.Linear(in_channels//r, in_channels)\n",
    "        self.sigmoid = nn.Sigmoid()\n",
    "    \n",
    "    def forward(self, x):\n",
    "        # shape is (B, in_C, H, W)\n",
    "        orig = x.clone() # shape is (B, in_C, H, W)\n",
    "        out = self.global_pool(x) # shape is (B, in_C, 1, 1)\n",
    "        out = out.view(out.size(0), -1)\n",
    "        out = self.fc1(out) # shape is (B, in_C//r)\n",
    "        out = self.relu(out) # shape is (B, in_C//r)\n",
    "        out = self.fc2(out) # shape is (B, in_C)\n",
    "        out = self.sigmoid(out) # shape is (B, in_C)\n",
    "        out = out.view(out.size(0), out.size(1), 1, 1) # shape is (B, in_C, 1, 1)\n",
    "        out = orig * out # shape is (B, in_C, H, W)\n",
    "        return out\n"
   ]
  },
  {
   "cell_type": "code",
   "execution_count": 14,
   "metadata": {},
   "outputs": [],
   "source": [
    "# test_se = squeeze_and_excitation(8, 2)\n",
    "# print(test_se)\n",
    "# x = torch.randn(1, 8, 48, 48)\n",
    "# out = test_se(x)\n",
    "# print(out.shape)\n"
   ]
  },
  {
   "cell_type": "markdown",
   "metadata": {},
   "source": [
    "### 3. Fusion Upsampling Module\n",
    "![fum](markdown_file/fum.png)"
   ]
  },
  {
   "cell_type": "code",
   "execution_count": 15,
   "metadata": {},
   "outputs": [],
   "source": [
    "class fusion_upsampling(nn.Module):\n",
    "    def __init__(self, enc_C, dec_C, r=2):\n",
    "        super(fusion_upsampling, self).__init__()\n",
    "        # assert enc_C == dec_C//2, \"enc_C should be equal to dec_C//2\"\n",
    "        # se modules for encoder and decoder\n",
    "        self.enc_se = squeeze_and_excitation(enc_C, r)\n",
    "        self.dec_se = squeeze_and_excitation(dec_C, r)\n",
    "\n",
    "        # upsampling part\n",
    "        self.conv_tr = nn.ConvTranspose2d(dec_C, enc_C, kernel_size=2, stride=2)\n",
    "        self.bn = nn.BatchNorm2d(enc_C)\n",
    "        self.relu = nn.ReLU()\n",
    "\n",
    "\n",
    "    def forward(self, enc_map, dec_map):\n",
    "        # enc_map shape is (B, enc_C, 2*H, 2*W)\n",
    "        # dec_map shape is (B, 2*enc_C, H, W) (dec_C = 2*enc_C)\n",
    "        # se part\n",
    "        enc_map = self.enc_se(enc_map) # shape is (B, enc_C, 2*H, 2*W)\n",
    "        dec_map = self.dec_se(dec_map) # shape is (B, 2*enc_C, H, W)\n",
    "\n",
    "        # upsampling part\n",
    "        dec_map = self.conv_tr(dec_map) # shape is (B, enc_C, 2*H, 2*W)\n",
    "        dec_map = self.bn(dec_map) # shape is (B, enc_C, 2*H, 2*W)\n",
    "        dec_map = self.relu(dec_map) # shape is (B, enc_C, 2*H, 2*W)\n",
    "\n",
    "        # fusion part\n",
    "        out = torch.concat((enc_map, dec_map), dim=1) # shape is (B, 2*enc_C, 2*H, 2*W)\n",
    "        return out"
   ]
  },
  {
   "cell_type": "code",
   "execution_count": 16,
   "metadata": {},
   "outputs": [],
   "source": [
    "# test_frm = fusion_upsampling(8, 16, 2)\n",
    "# print(test_frm)\n",
    "# enc_map = torch.randn(1, 8, 48, 48)\n",
    "# dec_map = torch.randn(1, 16, 24, 24)\n",
    "# out = test_frm(enc_map, dec_map)\n",
    "# print(out.shape)"
   ]
  },
  {
   "cell_type": "markdown",
   "metadata": {},
   "source": [
    "### 4. Dynamic Receptive Field Module\n",
    "- sizes can't be handled due to concat, so instead of concatenation in the last step, i'm gonna add them up or adding an extra convolution after the drfm module to half the number of channels\n",
    "![drfm](markdown_file/drfm.png)"
   ]
  },
  {
   "cell_type": "code",
   "execution_count": 17,
   "metadata": {},
   "outputs": [],
   "source": [
    "class dynamic_receptive_field_module(nn.Module):\n",
    "    def __init__(self, in_C):\n",
    "        super(dynamic_receptive_field_module, self).__init__()\n",
    "        self.conv1x1 = nn.Conv2d(in_C, in_C, kernel_size=1, stride=1, padding='same')\n",
    "        self.conv3x3 = nn.Conv2d(in_C, in_C, kernel_size=3, stride=1, padding='same')\n",
    "        self.conv5x5 = nn.Conv2d(in_C, in_C, kernel_size=5, stride=1, padding='same')\n",
    "\n",
    "        self.conv1x1_dil = nn.Conv2d(in_C, in_C, kernel_size=1, stride=1, padding='same', dilation=1)\n",
    "        self.conv3x3_dil = nn.Conv2d(in_C, in_C, kernel_size=3, stride=1, padding='same', dilation=3)\n",
    "        self.conv5x5_dil = nn.Conv2d(in_C, in_C, kernel_size=5, stride=1, padding='same', dilation=5)\n",
    "        \n",
    "\n",
    "        # self.final_conv = nn.Conv2d(3*in_C, in_C, kernel_size=3, stride=1, padding='same')\n",
    "        # self.bn = nn.BatchNorm2d(in_C)\n",
    "\n",
    "        self.last_conv1 = nn.Conv2d(3*in_C, in_C, kernel_size=3, stride=1, padding='same')\n",
    "        self.bn1 = nn.BatchNorm2d(in_C)\n",
    "        self.relu = nn.ReLU()\n",
    "\n",
    "        self.last_conv2 = nn.Conv2d(2*in_C, in_C, kernel_size=3, stride=1, padding='same')\n",
    "        self.bn2 = nn.BatchNorm2d(in_C)\n",
    "\n",
    "\n",
    "    def forward(self, x):\n",
    "        # x shape is (B, in_C, H, W)\n",
    "        orig = x.clone()\n",
    "        # 1x1 conv part\n",
    "        out_1 = self.conv1x1(x) # shape is (B, in_C, H, W)\n",
    "        out_1 = self.conv1x1_dil(out_1) # shape is (B, in_C, H, W)\n",
    "        # 3x3 conv part\n",
    "        out_3 = self.conv3x3(x)\n",
    "        out_3 = self.conv3x3_dil(out_3)\n",
    "        # 5x5 conv part\n",
    "        out_5 = self.conv5x5(x)\n",
    "        out_5 = self.conv5x5_dil(out_5)\n",
    "        # concat all the outputs\n",
    "        out = torch.cat((out_1, out_3, out_5), dim=1) # shape is (B, 3*in_C, H, W)\n",
    "        out = self.last_conv1(out) # shape is (B, in_C, H, W)\n",
    "        out = self.bn1(out) # shape is (B, in_C, H, W)\n",
    "        out = self.relu(out) # shape is (B, in_C, H, W)\n",
    "\n",
    "        # skip connection\n",
    "        out = torch.cat((orig, out), dim=1) # shape is (B, 2*in_C, H, W)\n",
    "\n",
    "        # last convolution to get the half number of channels\n",
    "        out = self.last_conv2(out) # shape is (B, in_C, H, W)\n",
    "        out = self.bn2(out) # shape is (B, in_C, H, W)\n",
    "        out = self.relu(out) # shape is (B, in_C, H, W)\n",
    "\n",
    "\n",
    "\n",
    "\n",
    "        # # skip connection\n",
    "        # out = self.final_conv(out) # shape is (B, in_C, H, W)\n",
    "        # out = self.bn(out) # shape is (B, in_C, H, W)\n",
    "        # out = self.relu(out) # shape is (B, in_C, H, W)\n",
    "\n",
    "        # # skip connection\n",
    "        # # out = torch.cat((orig, out), dim=1) # shape is (B, 2*in_C, H, W)\n",
    "        # out+= orig # shape is (B, in_C, H, W)\n",
    "\n",
    "        return out"
   ]
  },
  {
   "cell_type": "code",
   "execution_count": 18,
   "metadata": {},
   "outputs": [],
   "source": [
    "# test_drfm = dynamic_receptive_field_module(8)\n",
    "# print(test_drfm)\n",
    "# x = torch.randn(1, 8, 48, 48)\n",
    "# out = test_drfm(x)\n",
    "# print(out.shape)"
   ]
  },
  {
   "cell_type": "markdown",
   "metadata": {},
   "source": [
    "### 5. Super-UNET architecture\n",
    "![superunet](markdown_file/superunet.png)"
   ]
  },
  {
   "cell_type": "code",
   "execution_count": 19,
   "metadata": {},
   "outputs": [],
   "source": [
    "class downsample(nn.Module):\n",
    "    def __init__(self, channels = [3, 8, 16, 32, 64, 128]):\n",
    "        super(downsample, self).__init__()\n",
    "        self.pool = nn.MaxPool2d(kernel_size=2, stride=2)\n",
    "        self.channels = channels\n",
    "        self.blocks = nn.ModuleList([])\n",
    "        for i in range(5):\n",
    "            self.blocks.append(resblock(self.channels[i], self.channels[i+1]))\n",
    "        self.skips = []\n",
    "        pass\n",
    "\n",
    "    def forward(self, x):\n",
    "        # x shape is (B, 3, H, W)\n",
    "        for i in range(5):\n",
    "            x = self.blocks[i](x) # (B, channels[i+1], H, W)\n",
    "            self.skips.append(x) # (B, channels[i+1], H, W)\n",
    "            if i < 4:\n",
    "                x = self.pool(x) # (B, channels[i+1], H/2, W/2)\n",
    "        return self.skips"
   ]
  },
  {
   "cell_type": "code",
   "execution_count": 20,
   "metadata": {},
   "outputs": [],
   "source": [
    "# device = 'cuda'\n",
    "# test_down = downsample().to(device)\n",
    "# print(test_down)\n",
    "# x = torch.randn(1, 3, 48, 48).to(device)\n",
    "# skips = test_down(x)\n",
    "# print(len(skips))\n",
    "# for i in range(len(skips)):\n",
    "#     print(skips[i].shape)"
   ]
  },
  {
   "cell_type": "code",
   "execution_count": 21,
   "metadata": {},
   "outputs": [],
   "source": [
    "class upsample(nn.Module):\n",
    "    def __init__(self, channels = [128, 64, 32, 16, 8, 3]):\n",
    "        super(upsample, self).__init__()\n",
    "        self.channels = channels\n",
    "        self.frm_blocks = nn.ModuleList([])\n",
    "        self.res_blocks = nn.ModuleList([])\n",
    "        self.drfm_blocks = nn.ModuleList([])\n",
    "        for i in range(4):\n",
    "            self.frm_blocks.append(fusion_upsampling(self.channels[i+1], self.channels[i]))\n",
    "            self.res_blocks.append(resblock(self.channels[i], self.channels[i+1]))\n",
    "            self.drfm_blocks.append(dynamic_receptive_field_module(self.channels[i+1]))\n",
    "        \n",
    "\n",
    "\n",
    "    def forward(self, skips):\n",
    "        dec_map = skips[-1] # (B, 128, 3, 3)\n",
    "        for i in range(4):\n",
    "            enc_map = skips[-i-2] # (B, channels[i+1], 2**i*H, 2**i*W)\n",
    "            dec_map = self.frm_blocks[i](enc_map, dec_map) # (B, channels[i], 2**i*H, 2**i*W)\n",
    "            dec_map = self.res_blocks[i](dec_map) # (B, channels[i+1], 2**i*H, 2**i*W)\n",
    "            dec_map = self.drfm_blocks[i](dec_map) # (B, channels[i+1], 2**i*H, 2**i*W)\n",
    "\n",
    "    \n",
    "        return dec_map\n",
    "\n"
   ]
  },
  {
   "cell_type": "code",
   "execution_count": 22,
   "metadata": {},
   "outputs": [],
   "source": [
    "# test_up = upsample()\n",
    "# print(test_up)\n",
    "# out = test_up(skips)\n",
    "# print(out.shape)"
   ]
  },
  {
   "cell_type": "code",
   "execution_count": 23,
   "metadata": {},
   "outputs": [],
   "source": [
    "class SuperUNET(nn.Module):\n",
    "    def __init__(self, num_classes = 2):\n",
    "        super(SuperUNET, self).__init__()\n",
    "        self.down = downsample()\n",
    "        self.up = upsample()\n",
    "        self.conv1x1 = nn.Conv2d(8, num_classes, kernel_size=1, stride=1)\n",
    "\n",
    "    def forward(self, x):\n",
    "        # x shape is (B, 3, H, W)\n",
    "        skips = self.down(x) # all the skip connections\n",
    "        out = self.up(skips)\n",
    "        out = self.conv1x1(out)\n",
    "        return out\n",
    "\n"
   ]
  },
  {
   "cell_type": "code",
   "execution_count": 24,
   "metadata": {},
   "outputs": [],
   "source": [
    "# device = 'cuda'\n",
    "# test_sunet = SuperUNET().to(device)\n",
    "# loss_fn = nn.CrossEntropyLoss()\n",
    "# image = torch.randn(1, 3, 48, 48).to(device)\n",
    "# target = torch.randint(0, 2, (1, 48, 48)).to(device)\n",
    "# out = test_sunet(image)\n",
    "# print(out.shape)\n",
    "# print(loss_fn(out, target))"
   ]
  },
  {
   "cell_type": "markdown",
   "metadata": {},
   "source": [
    "## Model Utilities\n",
    "1. Save Model\n",
    "2. Load Model"
   ]
  },
  {
   "cell_type": "code",
   "execution_count": 25,
   "metadata": {},
   "outputs": [],
   "source": [
    "def save_model(model, optimizer, epoch, loss, path):\n",
    "    # we are savinf optimizer and epoch also so that we can resume training from the same point if required \n",
    "    # otherwise we will just save the model state_dict\n",
    "    torch.save({\n",
    "        'model_state_dict': model.state_dict(),\n",
    "        'optimizer_state_dict': optimizer.state_dict(),\n",
    "        'epoch': epoch,\n",
    "        'loss': loss\n",
    "    }, path)"
   ]
  },
  {
   "cell_type": "code",
   "execution_count": 26,
   "metadata": {},
   "outputs": [],
   "source": [
    "def load_model(model, optimizer, path):\n",
    "    # after returning the model, optimizer, epoch and loss, we can resume training from the same point\n",
    "    # or we can use the model for inference\n",
    "    # so use model.train() and model.eval() with torch.inference_mode(): as required\n",
    "    checkpoint = torch.load(path)\n",
    "    model.load_state_dict(checkpoint['model_state_dict'])\n",
    "    optimizer.load_state_dict(checkpoint['optimizer_state_dict'])\n",
    "    epoch = checkpoint['epoch']\n",
    "    loss = checkpoint['loss']\n",
    "    return model, optimizer, epoch, loss"
   ]
  },
  {
   "cell_type": "code",
   "execution_count": 27,
   "metadata": {},
   "outputs": [],
   "source": [
    "# model = test_sunet\n",
    "# lr, weight_decay = 1e-3, 1e-5\n",
    "# optimizer = optim.Adam(model.parameters(), lr=lr, weight_decay=weight_decay)\n",
    "# epochs = 2\n",
    "# device = 'cuda' if torch.cuda.is_available() else 'cpu'\n",
    "# model.to(device)"
   ]
  },
  {
   "cell_type": "markdown",
   "metadata": {},
   "source": [
    "## Metrics and loss function\n",
    "1. Accuracy\n",
    "2. Positive Predictive Value\n",
    "3. Sensitivity\n",
    "4. Dice Coefficient"
   ]
  },
  {
   "cell_type": "code",
   "execution_count": 55,
   "metadata": {},
   "outputs": [],
   "source": [
    "def metrics(pred, target):\n",
    "    # since this is all about binary segmentation maps, we will be using confusion marix\n",
    "    # pred shape is (B, num_classes, H, W)\n",
    "    # target shape is (B, H, W)\n",
    "    pred = pred.argmax(dim=1) # (B, H, W)\n",
    "    target = target.long()\n",
    "    eps = 1e-7\n",
    "    true_positive = torch.bitwise_and(pred==1, target==1).sum().item() + eps\n",
    "    true_negative = torch.bitwise_and(pred==0, target==0).sum().item() + eps\n",
    "    false_positive = torch.bitwise_and(pred==1, target==0).sum().item() + eps\n",
    "    false_negative = torch.bitwise_and(pred==0, target==1).sum().item() + eps\n",
    "\n",
    "    all_pixels = true_positive + true_negative + false_positive + false_negative\n",
    "    accuracy = (true_positive + true_negative)/all_pixels\n",
    "    positive_predictive_rate = true_positive/(true_positive + false_positive)\n",
    "    sensitivity = true_positive/(true_positive + false_negative)\n",
    "    dice_similarity = 2*true_positive/(2*true_positive + false_positive + false_negative)\n",
    "\n",
    "\n",
    "    return {'acc':accuracy, 'ppr':positive_predictive_rate, 'sens':sensitivity, 'dsc':dice_similarity}\n"
   ]
  },
  {
   "cell_type": "markdown",
   "metadata": {},
   "source": [
    "## Training and prediction loops\n",
    "1. Image segmentation (images to be segmented being of shape 528x528 while trained on 48x48) and visualization\n",
    "2. Extra Things to consider in training loop\n",
    "    - Done\n",
    "        - Scheduler (Cosine Annealing with linear warmup)\n",
    "        - Model Checkpointing\n",
    "        - Mixed Precision Training\n",
    "        - Gradient Clipping\n",
    "        - Early Stopping\n",
    "        - Logging\n",
    "    - Wandb Integration\n",
    "    - Multi-GPU Training\n",
    "    "
   ]
  },
  {
   "cell_type": "code",
   "execution_count": 29,
   "metadata": {},
   "outputs": [],
   "source": [
    "def segment(img, model, num_classes=2, device='cuda'):\n",
    "    '''\n",
    "    - we can multiple images at the same time, thus it works in the batched format\n",
    "    '''\n",
    "    model.eval()\n",
    "    with torch.inference_mode():\n",
    "        img = img.type(torch.float32).to(device)\n",
    "        # orginally we segmented the images of size 48x48, but\n",
    "        # now we are getting the images of size 528x528, so we will use sliding window technique\n",
    "        # to generate the segmentation maps\n",
    "        segmaps = torch.zeros((img.shape[0], num_classes, 528, 528)).to(device)\n",
    "        # we will generate the segmentation maps for 11x11 patches of 48x48\n",
    "        iters = tqdm.tqdm(range(121), 'generating patches', colour='yellow')\n",
    "        for i in iters: # iterating over number of patches\n",
    "            row, col = (i//11)*48, (i%11)*48\n",
    "            img_patch = img[:,:,row:row+48, col:col+48]\n",
    "            segmaps_patch = model(img_patch)\n",
    "            segmaps[:,:,row:row+48, col:col+48] = segmaps_patch\n",
    "\n",
    "        \n",
    "        return segmaps\n"
   ]
  },
  {
   "cell_type": "code",
   "execution_count": 30,
   "metadata": {},
   "outputs": [],
   "source": [
    "def visualize_segmaps(img_batch, segmap, orig_mask):\n",
    "    '''\n",
    "    - this too work in the batched form\n",
    "    - we will do this with batch sizes of 4\n",
    "    '''\n",
    "    batch_size = img_batch.shape[0]\n",
    "    plt.figure(figsize=(10,10))\n",
    "    for i in range(batch_size):\n",
    "        plt.subplot(batch_size, 3, 3*i + 1)\n",
    "        plt.imshow(img_batch[i].detach().cpu().numpy().transpose(1,2,0))\n",
    "        plt.title('Image')\n",
    "        plt.axis('off')\n",
    "\n",
    "        plt.subplot(batch_size, 3, 3*i + 2)\n",
    "        plt.imshow(segmap[i].argmax(0).detach().cpu().numpy(), cmap='gray')\n",
    "        plt.title('Predicted Mask')\n",
    "        plt.axis('off')\n",
    "\n",
    "        plt.subplot(batch_size, 3, 3*i + 3)\n",
    "        plt.imshow(orig_mask[i].detach().cpu().numpy(), cmap='gray')\n",
    "        plt.title('Original Mask')\n",
    "        plt.axis('off')\n",
    "\n",
    "    plt.show()"
   ]
  },
  {
   "cell_type": "code",
   "execution_count": 31,
   "metadata": {},
   "outputs": [],
   "source": [
    "def save_segmaps(img_batch, segmap, orig_mask, path):\n",
    "    '''\n",
    "    - this too work in the batched form\n",
    "    - we will do this with batch sizes of 4\n",
    "    '''\n",
    "    batch_size = img_batch.shape[0]\n",
    "    for i in range(batch_size):\n",
    "        plt.figure(figsize=(10,10))\n",
    "        plt.subplot(1, 3, 1)\n",
    "        plt.imshow(img_batch[i].detach().cpu().numpy().transpose(1,2,0))\n",
    "        plt.title('Image')\n",
    "        plt.axis('off')\n",
    "\n",
    "        plt.subplot(1, 3, 2)\n",
    "        plt.imshow(segmap[i].argmax(0).detach().cpu().numpy(), cmap='gray')\n",
    "        plt.title('Predicted Mask')\n",
    "        plt.axis('off')\n",
    "\n",
    "        plt.subplot(1, 3, 3)\n",
    "        plt.imshow(orig_mask[i].detach().cpu().numpy(), cmap='gray')\n",
    "        plt.title('Original Mask')\n",
    "        plt.axis('off')\n",
    "\n",
    "        plt.savefig(path)\n",
    "        plt.close()"
   ]
  },
  {
   "cell_type": "code",
   "execution_count": 60,
   "metadata": {},
   "outputs": [],
   "source": [
    "def time_elapsed(start_time):\n",
    "    end_time = time()\n",
    "    elapsed_time = end_time - start_time\n",
    "    # let us change it to hours minutes and seconds manuaaly\n",
    "    hours = int(elapsed_time//3600)\n",
    "    minutes = int((elapsed_time%3600)//60)\n",
    "    seconds = int(elapsed_time%60)\n",
    "    elapsed_time = f'{hours}H {minutes}M {seconds}S'\n",
    "    return elapsed_time"
   ]
  },
  {
   "cell_type": "code",
   "execution_count": 48,
   "metadata": {},
   "outputs": [],
   "source": [
    "# device = torch.device('cuda' if torch.cuda.is_available() else 'cpu')\n",
    "# model = SuperUNET().to(device)\n",
    "# lr, weight_decay = 1e-3, 1e-5\n",
    "# optimizer = optim.Adam(model.parameters(), lr=lr, weight_decay=weight_decay)\n",
    "# scaler = torch.cuda.amp.GradScaler()\n",
    "# epochs = 2\n",
    "# loss_fn = nn.CrossEntropyLoss()"
   ]
  },
  {
   "cell_type": "code",
   "execution_count": 49,
   "metadata": {},
   "outputs": [],
   "source": [
    "# let us first create a expts directory which will contains record of all of the expts\n",
    "all_expts = os.makedirs('all_expts', exist_ok=True)\n",
    "from datetime import datetime\n",
    "t_init = str(datetime.now())\n",
    "t_init = t_init.replace(' ', '_')\n",
    "t_init = t_init.replace(':', '_')\n",
    "t_init = t_init.replace('-', '_')\n",
    "t_init = t_init.split('.')[0]\n",
    "expt_name = f'expt_{t_init}'\n",
    "\n",
    "# now we will create a directory for this expt\n",
    "expt_dir = os.path.join('all_expts', expt_name)\n",
    "os.makedirs(expt_dir, exist_ok=True)\n",
    "\n",
    "folders_to_create = ['models', 'logs', 'test_images']\n",
    "for folder in folders_to_create:\n",
    "    folder = os.path.join(expt_dir, folder)\n",
    "    os.makedirs(folder, exist_ok=True)\n",
    "\n",
    "model_ckpt_dir = os.path.join(expt_dir, 'models')\n",
    "model_ckpt_path = os.path.join(model_ckpt_dir, 'best_model.pth')\n",
    "logs_dir = os.path.join(expt_dir, 'logs')\n",
    "logs_path = os.path.join(logs_dir, 'logs.csv')\n",
    "test_images_dir = os.path.join(expt_dir, 'test_images')\n",
    "conifg_path = os.path.join(expt_dir, 'config.json')\n",
    "\n"
   ]
  },
  {
   "cell_type": "code",
   "execution_count": 50,
   "metadata": {},
   "outputs": [],
   "source": [
    "import json\n",
    "config = {\n",
    "    # model names and saving paths\n",
    "    'model':model.__class__.__name__,\n",
    "    'optimizer':optimizer.__class__.__name__,\n",
    "    'loss_fn':loss_fn.__class__.__name__,\n",
    "    'model_ckpt_path':model_ckpt_path,\n",
    "    'logs_path':logs_path,\n",
    "    'test_images_dir':test_images_dir,\n",
    "\n",
    "    # data args and model ars\n",
    "    'batch_size':None,\n",
    "    'lr':None,\n",
    "    'weight_decay':None,\n",
    "    'device':device.type,\n",
    "    'epochs':None,\n",
    "    'init_lr':None, # required in scheduler in case of warm starts\n",
    "    'warmup_steps':None, # required in scheduler in case of warm starts \n",
    "    'total_steps':None, # required in scheduler in case of warm starts\n",
    "    'amp':None, # automated mixed precision\n",
    "    'gradient_clip':None,\n",
    "    'early_stopping':None, # if applied it will be applied to model only\n",
    "    'num_classes':2\n",
    "}\n",
    "\n",
    "def save_config(config_dict, config_path):\n",
    "    with open(config_path, 'w') as f:\n",
    "        json.dump(config_dict, f, indent=4)"
   ]
  },
  {
   "cell_type": "code",
   "execution_count": 51,
   "metadata": {},
   "outputs": [],
   "source": [
    "def Cosine_Annealing_LinearWarmup_Scheduler(optimizer, init_lr, max_lr, \n",
    "                                            warmup_steps, global_step, total_steps):\n",
    "    '''\n",
    "    - init_lr is the initial learning rate\n",
    "    - max_lr is the the learning rate which will achieved after the initial warmup\n",
    "    - warmup_steps is the number of steps taken to reach the max_lr from init_lr\n",
    "    - global_step is the current step number in the epoch\n",
    "    - total_steps = \n",
    "\n",
    "    '''\n",
    "    \n",
    "    if global_step < warmup_steps:\n",
    "        lr = init_lr + (max_lr - init_lr)*global_step/warmup_steps\n",
    "    else:\n",
    "        lr = init_lr + 0.5*(max_lr - init_lr)*(1 + np.cos((global_step - warmup_steps)/(total_steps - warmup_steps)*np.pi))\n",
    "\n",
    "\n",
    "    optimizer.param_groups[0]['lr'] = lr\n"
   ]
  },
  {
   "cell_type": "code",
   "execution_count": 72,
   "metadata": {},
   "outputs": [],
   "source": [
    "config['train_batch_size'] = 32\n",
    "config['val_batch_size'] = 4\n",
    "config['lr'] = 1e-3\n",
    "config['weight_decay'] = 1e-5\n",
    "config['device'] = 'cuda'\n",
    "config['epochs'] = 20\n",
    "config['init_lr'] = 0.0\n",
    "config['warmup_steps'] = 10\n",
    "config['total_steps'] = 1000\n",
    "config['gradient_clip'] = 5.0\n",
    "config['num_classes'] = 2\n",
    "config['weights'] = [1, 4] # in loss function predicting 1 is 4 times more important than predicting 0\n",
    "\n",
    "config['amp'] = True\n",
    "config['early_stopping'] = False\n",
    "\n"
   ]
  },
  {
   "cell_type": "code",
   "execution_count": null,
   "metadata": {},
   "outputs": [],
   "source": [
    "model = SuperUNET().to(config['device'])\n",
    "lr, weight_decay = config['lr'], config['weight_decay']\n",
    "optimizer = optim.Adam(model.parameters(), lr=lr, weight_decay=weight_decay)\n",
    "scaler = torch.cuda.amp.GradScaler()\n",
    "epochs = config['epochs']\n",
    "weights = torch.tensor(config['weights']).type(torch.float32).to(config['device'])\n",
    "loss_fn = nn.CrossEntropyLoss(weight=weights)"
   ]
  },
  {
   "cell_type": "code",
   "execution_count": 77,
   "metadata": {},
   "outputs": [],
   "source": [
    "def train(model, optimizer, loss_fn, config, train_loader, val_loader, scaler = None):\n",
    "    start_time = time()\n",
    "    global_step = 0 # to be used for learning rate scheduling\n",
    "    best_loss = np.inf # to be used for model checkpointing, to be stored for lowest train loss\n",
    "    train_performance_metrics = [] # to be used for training logs\n",
    "    val_performance_metrics = [] # to be used for validation logs\n",
    "    prev_val_loss = np.inf # to be used for early stopping, applied on train loss only\n",
    "    counter = 0 # to be used for early stopping, applied on train loss only\n",
    "\n",
    "    for epoch in range(config['epochs']):\n",
    "        print(f'Epoch: {epoch+1}/{config[\"epochs\"]}')\n",
    "        model.train()\n",
    "        # setting up the learning rate for this step\n",
    "        Cosine_Annealing_LinearWarmup_Scheduler(optimizer, config['init_lr'], config['lr'], \n",
    "                                                config['warmup_steps'], global_step, config['total_steps'])\n",
    "        epoch_train_performance_metrics = {'loss':0.0, 'acc':0.0, 'ppr':0.0, 'sens':0.0, 'dsc':0.0}\n",
    "        epoch_val_performance_metrics = {'loss':0.0, 'acc':0.0, 'ppr':0.0, 'sens':0.0, 'dsc':0.0}\n",
    "\n",
    "        batches = tqdm.tqdm(enumerate(train_loader, 0), 'training', total=len(train_loader), colour='green')\n",
    "        for i, batch in batches:\n",
    "            optimizer.zero_grad()\n",
    "            imgs, masks = batch['img'].type(torch.float32).to(device), batch['mask'].type(torch.long).to(device)\n",
    "\n",
    "            # forward pass\n",
    "            op = model(imgs)\n",
    "            loss = loss_fn(op, masks)\n",
    "            epoch_train_performance_metrics['loss'] += loss.item()\n",
    "\n",
    "            # backward pass\n",
    "            if scaler is not None:\n",
    "                # using automated mixed precision\n",
    "                scaler.scale(loss).backward()\n",
    "                # gradient clipping to avoid exploding gradients\n",
    "                if config['gradient_clip'] is not None:\n",
    "                    scaler.unscale_(optimizer)\n",
    "                    torch.nn.utils.clip_grad_norm_(model.parameters(), config['gradient_clip'])\n",
    "                \n",
    "                scaler.step(optimizer)\n",
    "                scaler.update()\n",
    "            else:\n",
    "                # without automated mixed precision\n",
    "                loss.backward()\n",
    "                # gradient clipping to avoid exploding gradients\n",
    "                if config['gradient_clip'] is not None:\n",
    "                    torch.nn.utils.clip_grad_norm_(model.parameters(), config['gradient_clip'])\n",
    "                optimizer.step()\n",
    "\n",
    "            # logging\n",
    "            global_step += 1\n",
    "            batches.set_postfix({'loss':loss.item()})\n",
    "            batch_metrics = metrics(op, masks)\n",
    "            for key in batch_metrics.keys():\n",
    "                epoch_train_performance_metrics[key] += batch_metrics[key]\n",
    "\n",
    "            # now model checkpointing (model checkpointing is done on the global_step)\n",
    "            # dividing the loss by number of images to get the average loss per image of the batch\n",
    "            # as the batch size can be different\n",
    "            if loss.item()/imgs.shape[0] < best_loss:\n",
    "                best_loss = loss.item()/imgs.shape[0]\n",
    "                save_model(model, optimizer, epoch, loss, config['model_ckpt_path'])\n",
    "            \n",
    "            # early stopping based on train loss if not improved from past 5 epochs or given number of early stopping epochs\n",
    "            if config['early_stopping'] is not None and loss.item()/imgs.shape[0] > prev_val_loss:\n",
    "                counter += 1\n",
    "                if counter == config['early_stopping']:\n",
    "                    counter = -1\n",
    "                    break\n",
    "            else:\n",
    "                counter = 0\n",
    "\n",
    "        if counter == -1:\n",
    "            # now goes the early stopping\n",
    "            print(f\"-------/nEarly Stopping as loss not improved from past {config['early_stopping']} epochs/n-------\")\n",
    "            break\n",
    "        \n",
    "\n",
    "        # now all the stuff related to training has been done\n",
    "        # now we will do the validation part, model.eval() and with torch.no_inference() has \n",
    "        # alredy been written in the segment function\n",
    "        for i, batch in enumerate(val_loader):\n",
    "            imgs, masks = batch['img'].type(torch.float32).to(device), batch['mask'].type(torch.long).to(device)\n",
    "            op = segment(imgs, model, config['num_classes'], device)\n",
    "            loss = loss_fn(op, masks)\n",
    "            epoch_val_performance_metrics['loss'] += loss.item()\n",
    "            batch_metrics = metrics(op, masks)\n",
    "\n",
    "            for key in batch_metrics.keys():\n",
    "                epoch_val_performance_metrics[key] += batch_metrics[key]\n",
    "\n",
    "            # now we can log images for visual purposes\n",
    "            segmap_path = os.path.join(config['test_images_dir'], f'segmap_{epoch}_{i}.png')\n",
    "            save_segmaps(batch['img'].to(device), op, masks, segmap_path)\n",
    "            \n",
    "\n",
    "\n",
    "        # logging the epoch performance metrics\n",
    "        for key in epoch_train_performance_metrics.keys():\n",
    "            epoch_train_performance_metrics[key] /= len(train_loader)\n",
    "\n",
    "        for key in epoch_val_performance_metrics.keys():\n",
    "            epoch_val_performance_metrics[key] /= len(val_loader)\n",
    "\n",
    "        train_performance_metrics.append(epoch_train_performance_metrics)\n",
    "        val_performance_metrics.append(epoch_val_performance_metrics)\n",
    "\n",
    "        # now logging both of the losses as a csv file\n",
    "        logs = pd.DataFrame({'train_loss':[x['loss'] for x in train_performance_metrics],\n",
    "                             'train_acc':[x['acc'] for x in train_performance_metrics],\n",
    "                             'train_ppr':[x['ppr'] for x in train_performance_metrics],\n",
    "                             'train_sens':[x['sens'] for x in train_performance_metrics],\n",
    "                             'train_dsc':[x['dsc'] for x in train_performance_metrics],\n",
    "                             'val_loss':[x['loss'] for x in val_performance_metrics],\n",
    "                             'val_acc':[x['acc'] for x in val_performance_metrics],\n",
    "                             'val_ppr':[x['ppr'] for x in val_performance_metrics],\n",
    "                             'val_sens':[x['sens'] for x in val_performance_metrics],\n",
    "                             'val_dsc':[x['dsc'] for x in val_performance_metrics]})\n",
    "        logs.to_csv(config['logs_path'], index=False)\n",
    "\n",
    "\n",
    "        print(f'Time Elapsed: {time_elapsed(start_time)}')\n",
    "\n",
    "            \n",
    "\n",
    "\n",
    "\n"
   ]
  },
  {
   "cell_type": "code",
   "execution_count": 78,
   "metadata": {},
   "outputs": [
    {
     "name": "stdout",
     "output_type": "stream",
     "text": [
      "Epoch: 1/2\n"
     ]
    },
    {
     "name": "stderr",
     "output_type": "stream",
     "text": [
      "training: 100%|\u001b[32m██████████\u001b[0m| 32/32 [00:47<00:00,  1.48s/it, loss=0.647]\n",
      "generating patches: 100%|\u001b[33m██████████\u001b[0m| 121/121 [00:05<00:00, 22.45it/s]\n",
      "generating patches: 100%|\u001b[33m██████████\u001b[0m| 121/121 [00:06<00:00, 19.46it/s]\n"
     ]
    },
    {
     "name": "stdout",
     "output_type": "stream",
     "text": [
      "Time Elapsed: 0H 1M 0S\n",
      "Epoch: 2/2\n"
     ]
    },
    {
     "name": "stderr",
     "output_type": "stream",
     "text": [
      "training:  19%|\u001b[32m█▉        \u001b[0m| 6/32 [00:09<00:42,  1.63s/it, loss=0.594]\n"
     ]
    },
    {
     "ename": "RuntimeError",
     "evalue": "CUDA out of memory. Tried to allocate 20.00 MiB (GPU 0; 2.00 GiB total capacity; 1.68 GiB already allocated; 0 bytes free; 1.71 GiB reserved in total by PyTorch) If reserved memory is >> allocated memory try setting max_split_size_mb to avoid fragmentation.  See documentation for Memory Management and PYTORCH_CUDA_ALLOC_CONF",
     "output_type": "error",
     "traceback": [
      "\u001b[1;31m---------------------------------------------------------------------------\u001b[0m",
      "\u001b[1;31mRuntimeError\u001b[0m                              Traceback (most recent call last)",
      "Cell \u001b[1;32mIn[78], line 1\u001b[0m\n\u001b[1;32m----> 1\u001b[0m \u001b[43mtrain\u001b[49m\u001b[43m(\u001b[49m\u001b[43mmodel\u001b[49m\u001b[43m,\u001b[49m\u001b[43m \u001b[49m\u001b[43moptimizer\u001b[49m\u001b[43m,\u001b[49m\u001b[43m \u001b[49m\u001b[43mloss_fn\u001b[49m\u001b[43m,\u001b[49m\u001b[43m \u001b[49m\u001b[43mconfig\u001b[49m\u001b[43m,\u001b[49m\u001b[43m \u001b[49m\u001b[43mtrain_loader\u001b[49m\u001b[43m,\u001b[49m\u001b[43m \u001b[49m\u001b[43mval_loader\u001b[49m\u001b[43m,\u001b[49m\u001b[43m \u001b[49m\u001b[43mscaler\u001b[49m\u001b[43m)\u001b[49m\n",
      "Cell \u001b[1;32mIn[77], line 25\u001b[0m, in \u001b[0;36mtrain\u001b[1;34m(model, optimizer, loss_fn, config, train_loader, val_loader, scaler)\u001b[0m\n\u001b[0;32m     22\u001b[0m imgs, masks \u001b[38;5;241m=\u001b[39m batch[\u001b[38;5;124m'\u001b[39m\u001b[38;5;124mimg\u001b[39m\u001b[38;5;124m'\u001b[39m]\u001b[38;5;241m.\u001b[39mtype(torch\u001b[38;5;241m.\u001b[39mfloat32)\u001b[38;5;241m.\u001b[39mto(device), batch[\u001b[38;5;124m'\u001b[39m\u001b[38;5;124mmask\u001b[39m\u001b[38;5;124m'\u001b[39m]\u001b[38;5;241m.\u001b[39mtype(torch\u001b[38;5;241m.\u001b[39mlong)\u001b[38;5;241m.\u001b[39mto(device)\n\u001b[0;32m     24\u001b[0m \u001b[38;5;66;03m# forward pass\u001b[39;00m\n\u001b[1;32m---> 25\u001b[0m op \u001b[38;5;241m=\u001b[39m \u001b[43mmodel\u001b[49m\u001b[43m(\u001b[49m\u001b[43mimgs\u001b[49m\u001b[43m)\u001b[49m\n\u001b[0;32m     26\u001b[0m loss \u001b[38;5;241m=\u001b[39m loss_fn(op, masks)\n\u001b[0;32m     27\u001b[0m epoch_train_performance_metrics[\u001b[38;5;124m'\u001b[39m\u001b[38;5;124mloss\u001b[39m\u001b[38;5;124m'\u001b[39m] \u001b[38;5;241m+\u001b[39m\u001b[38;5;241m=\u001b[39m loss\u001b[38;5;241m.\u001b[39mitem()\n",
      "File \u001b[1;32mc:\\Users\\Ayush\\anaconda3\\envs\\pytorch\\lib\\site-packages\\torch\\nn\\modules\\module.py:1110\u001b[0m, in \u001b[0;36mModule._call_impl\u001b[1;34m(self, *input, **kwargs)\u001b[0m\n\u001b[0;32m   1106\u001b[0m \u001b[38;5;66;03m# If we don't have any hooks, we want to skip the rest of the logic in\u001b[39;00m\n\u001b[0;32m   1107\u001b[0m \u001b[38;5;66;03m# this function, and just call forward.\u001b[39;00m\n\u001b[0;32m   1108\u001b[0m \u001b[38;5;28;01mif\u001b[39;00m \u001b[38;5;129;01mnot\u001b[39;00m (\u001b[38;5;28mself\u001b[39m\u001b[38;5;241m.\u001b[39m_backward_hooks \u001b[38;5;129;01mor\u001b[39;00m \u001b[38;5;28mself\u001b[39m\u001b[38;5;241m.\u001b[39m_forward_hooks \u001b[38;5;129;01mor\u001b[39;00m \u001b[38;5;28mself\u001b[39m\u001b[38;5;241m.\u001b[39m_forward_pre_hooks \u001b[38;5;129;01mor\u001b[39;00m _global_backward_hooks\n\u001b[0;32m   1109\u001b[0m         \u001b[38;5;129;01mor\u001b[39;00m _global_forward_hooks \u001b[38;5;129;01mor\u001b[39;00m _global_forward_pre_hooks):\n\u001b[1;32m-> 1110\u001b[0m     \u001b[38;5;28;01mreturn\u001b[39;00m forward_call(\u001b[38;5;241m*\u001b[39m\u001b[38;5;28minput\u001b[39m, \u001b[38;5;241m*\u001b[39m\u001b[38;5;241m*\u001b[39mkwargs)\n\u001b[0;32m   1111\u001b[0m \u001b[38;5;66;03m# Do not call functions when jit is used\u001b[39;00m\n\u001b[0;32m   1112\u001b[0m full_backward_hooks, non_full_backward_hooks \u001b[38;5;241m=\u001b[39m [], []\n",
      "Cell \u001b[1;32mIn[23], line 11\u001b[0m, in \u001b[0;36mSuperUNET.forward\u001b[1;34m(self, x)\u001b[0m\n\u001b[0;32m      8\u001b[0m \u001b[38;5;28;01mdef\u001b[39;00m \u001b[38;5;21mforward\u001b[39m(\u001b[38;5;28mself\u001b[39m, x):\n\u001b[0;32m      9\u001b[0m     \u001b[38;5;66;03m# x shape is (B, 3, H, W)\u001b[39;00m\n\u001b[0;32m     10\u001b[0m     skips \u001b[38;5;241m=\u001b[39m \u001b[38;5;28mself\u001b[39m\u001b[38;5;241m.\u001b[39mdown(x) \u001b[38;5;66;03m# all the skip connections\u001b[39;00m\n\u001b[1;32m---> 11\u001b[0m     out \u001b[38;5;241m=\u001b[39m \u001b[38;5;28;43mself\u001b[39;49m\u001b[38;5;241;43m.\u001b[39;49m\u001b[43mup\u001b[49m\u001b[43m(\u001b[49m\u001b[43mskips\u001b[49m\u001b[43m)\u001b[49m\n\u001b[0;32m     12\u001b[0m     out \u001b[38;5;241m=\u001b[39m \u001b[38;5;28mself\u001b[39m\u001b[38;5;241m.\u001b[39mconv1x1(out)\n\u001b[0;32m     13\u001b[0m     \u001b[38;5;28;01mreturn\u001b[39;00m out\n",
      "File \u001b[1;32mc:\\Users\\Ayush\\anaconda3\\envs\\pytorch\\lib\\site-packages\\torch\\nn\\modules\\module.py:1110\u001b[0m, in \u001b[0;36mModule._call_impl\u001b[1;34m(self, *input, **kwargs)\u001b[0m\n\u001b[0;32m   1106\u001b[0m \u001b[38;5;66;03m# If we don't have any hooks, we want to skip the rest of the logic in\u001b[39;00m\n\u001b[0;32m   1107\u001b[0m \u001b[38;5;66;03m# this function, and just call forward.\u001b[39;00m\n\u001b[0;32m   1108\u001b[0m \u001b[38;5;28;01mif\u001b[39;00m \u001b[38;5;129;01mnot\u001b[39;00m (\u001b[38;5;28mself\u001b[39m\u001b[38;5;241m.\u001b[39m_backward_hooks \u001b[38;5;129;01mor\u001b[39;00m \u001b[38;5;28mself\u001b[39m\u001b[38;5;241m.\u001b[39m_forward_hooks \u001b[38;5;129;01mor\u001b[39;00m \u001b[38;5;28mself\u001b[39m\u001b[38;5;241m.\u001b[39m_forward_pre_hooks \u001b[38;5;129;01mor\u001b[39;00m _global_backward_hooks\n\u001b[0;32m   1109\u001b[0m         \u001b[38;5;129;01mor\u001b[39;00m _global_forward_hooks \u001b[38;5;129;01mor\u001b[39;00m _global_forward_pre_hooks):\n\u001b[1;32m-> 1110\u001b[0m     \u001b[38;5;28;01mreturn\u001b[39;00m forward_call(\u001b[38;5;241m*\u001b[39m\u001b[38;5;28minput\u001b[39m, \u001b[38;5;241m*\u001b[39m\u001b[38;5;241m*\u001b[39mkwargs)\n\u001b[0;32m   1111\u001b[0m \u001b[38;5;66;03m# Do not call functions when jit is used\u001b[39;00m\n\u001b[0;32m   1112\u001b[0m full_backward_hooks, non_full_backward_hooks \u001b[38;5;241m=\u001b[39m [], []\n",
      "Cell \u001b[1;32mIn[21], line 21\u001b[0m, in \u001b[0;36mupsample.forward\u001b[1;34m(self, skips)\u001b[0m\n\u001b[0;32m     19\u001b[0m     dec_map \u001b[38;5;241m=\u001b[39m \u001b[38;5;28mself\u001b[39m\u001b[38;5;241m.\u001b[39mfrm_blocks[i](enc_map, dec_map) \u001b[38;5;66;03m# (B, channels[i], 2**i*H, 2**i*W)\u001b[39;00m\n\u001b[0;32m     20\u001b[0m     dec_map \u001b[38;5;241m=\u001b[39m \u001b[38;5;28mself\u001b[39m\u001b[38;5;241m.\u001b[39mres_blocks[i](dec_map) \u001b[38;5;66;03m# (B, channels[i+1], 2**i*H, 2**i*W)\u001b[39;00m\n\u001b[1;32m---> 21\u001b[0m     dec_map \u001b[38;5;241m=\u001b[39m \u001b[38;5;28;43mself\u001b[39;49m\u001b[38;5;241;43m.\u001b[39;49m\u001b[43mdrfm_blocks\u001b[49m\u001b[43m[\u001b[49m\u001b[43mi\u001b[49m\u001b[43m]\u001b[49m\u001b[43m(\u001b[49m\u001b[43mdec_map\u001b[49m\u001b[43m)\u001b[49m \u001b[38;5;66;03m# (B, channels[i+1], 2**i*H, 2**i*W)\u001b[39;00m\n\u001b[0;32m     24\u001b[0m \u001b[38;5;28;01mreturn\u001b[39;00m dec_map\n",
      "File \u001b[1;32mc:\\Users\\Ayush\\anaconda3\\envs\\pytorch\\lib\\site-packages\\torch\\nn\\modules\\module.py:1110\u001b[0m, in \u001b[0;36mModule._call_impl\u001b[1;34m(self, *input, **kwargs)\u001b[0m\n\u001b[0;32m   1106\u001b[0m \u001b[38;5;66;03m# If we don't have any hooks, we want to skip the rest of the logic in\u001b[39;00m\n\u001b[0;32m   1107\u001b[0m \u001b[38;5;66;03m# this function, and just call forward.\u001b[39;00m\n\u001b[0;32m   1108\u001b[0m \u001b[38;5;28;01mif\u001b[39;00m \u001b[38;5;129;01mnot\u001b[39;00m (\u001b[38;5;28mself\u001b[39m\u001b[38;5;241m.\u001b[39m_backward_hooks \u001b[38;5;129;01mor\u001b[39;00m \u001b[38;5;28mself\u001b[39m\u001b[38;5;241m.\u001b[39m_forward_hooks \u001b[38;5;129;01mor\u001b[39;00m \u001b[38;5;28mself\u001b[39m\u001b[38;5;241m.\u001b[39m_forward_pre_hooks \u001b[38;5;129;01mor\u001b[39;00m _global_backward_hooks\n\u001b[0;32m   1109\u001b[0m         \u001b[38;5;129;01mor\u001b[39;00m _global_forward_hooks \u001b[38;5;129;01mor\u001b[39;00m _global_forward_pre_hooks):\n\u001b[1;32m-> 1110\u001b[0m     \u001b[38;5;28;01mreturn\u001b[39;00m forward_call(\u001b[38;5;241m*\u001b[39m\u001b[38;5;28minput\u001b[39m, \u001b[38;5;241m*\u001b[39m\u001b[38;5;241m*\u001b[39mkwargs)\n\u001b[0;32m   1111\u001b[0m \u001b[38;5;66;03m# Do not call functions when jit is used\u001b[39;00m\n\u001b[0;32m   1112\u001b[0m full_backward_hooks, non_full_backward_hooks \u001b[38;5;241m=\u001b[39m [], []\n",
      "Cell \u001b[1;32mIn[17], line 43\u001b[0m, in \u001b[0;36mdynamic_receptive_field_module.forward\u001b[1;34m(self, x)\u001b[0m\n\u001b[0;32m     40\u001b[0m out \u001b[38;5;241m=\u001b[39m \u001b[38;5;28mself\u001b[39m\u001b[38;5;241m.\u001b[39mrelu(out) \u001b[38;5;66;03m# shape is (B, in_C, H, W)\u001b[39;00m\n\u001b[0;32m     42\u001b[0m \u001b[38;5;66;03m# skip connection\u001b[39;00m\n\u001b[1;32m---> 43\u001b[0m out \u001b[38;5;241m=\u001b[39m \u001b[43mtorch\u001b[49m\u001b[38;5;241;43m.\u001b[39;49m\u001b[43mcat\u001b[49m\u001b[43m(\u001b[49m\u001b[43m(\u001b[49m\u001b[43morig\u001b[49m\u001b[43m,\u001b[49m\u001b[43m \u001b[49m\u001b[43mout\u001b[49m\u001b[43m)\u001b[49m\u001b[43m,\u001b[49m\u001b[43m \u001b[49m\u001b[43mdim\u001b[49m\u001b[38;5;241;43m=\u001b[39;49m\u001b[38;5;241;43m1\u001b[39;49m\u001b[43m)\u001b[49m \u001b[38;5;66;03m# shape is (B, 2*in_C, H, W)\u001b[39;00m\n\u001b[0;32m     45\u001b[0m \u001b[38;5;66;03m# last convolution to get the half number of channels\u001b[39;00m\n\u001b[0;32m     46\u001b[0m out \u001b[38;5;241m=\u001b[39m \u001b[38;5;28mself\u001b[39m\u001b[38;5;241m.\u001b[39mlast_conv2(out) \u001b[38;5;66;03m# shape is (B, in_C, H, W)\u001b[39;00m\n",
      "\u001b[1;31mRuntimeError\u001b[0m: CUDA out of memory. Tried to allocate 20.00 MiB (GPU 0; 2.00 GiB total capacity; 1.68 GiB already allocated; 0 bytes free; 1.71 GiB reserved in total by PyTorch) If reserved memory is >> allocated memory try setting max_split_size_mb to avoid fragmentation.  See documentation for Memory Management and PYTORCH_CUDA_ALLOC_CONF"
     ]
    }
   ],
   "source": [
    "train(model, optimizer, loss_fn, config, train_loader, val_loader, scaler)"
   ]
  },
  {
   "cell_type": "code",
   "execution_count": null,
   "metadata": {},
   "outputs": [],
   "source": []
  },
  {
   "cell_type": "code",
   "execution_count": null,
   "metadata": {},
   "outputs": [],
   "source": []
  },
  {
   "cell_type": "code",
   "execution_count": 44,
   "metadata": {},
   "outputs": [
    {
     "data": {
      "text/html": [
       "<div>\n",
       "<style scoped>\n",
       "    .dataframe tbody tr th:only-of-type {\n",
       "        vertical-align: middle;\n",
       "    }\n",
       "\n",
       "    .dataframe tbody tr th {\n",
       "        vertical-align: top;\n",
       "    }\n",
       "\n",
       "    .dataframe thead th {\n",
       "        text-align: right;\n",
       "    }\n",
       "</style>\n",
       "<table border=\"1\" class=\"dataframe\">\n",
       "  <thead>\n",
       "    <tr style=\"text-align: right;\">\n",
       "      <th></th>\n",
       "      <th>acc</th>\n",
       "      <th>ppr</th>\n",
       "      <th>sens</th>\n",
       "      <th>dsc</th>\n",
       "      <th>loss</th>\n",
       "    </tr>\n",
       "  </thead>\n",
       "  <tbody>\n",
       "    <tr>\n",
       "      <th>0</th>\n",
       "      <td>0.428765</td>\n",
       "      <td>0.147216</td>\n",
       "      <td>0.731386</td>\n",
       "      <td>0.245098</td>\n",
       "      <td>0.693864</td>\n",
       "    </tr>\n",
       "    <tr>\n",
       "      <th>1</th>\n",
       "      <td>0.442220</td>\n",
       "      <td>0.151885</td>\n",
       "      <td>0.832728</td>\n",
       "      <td>0.256912</td>\n",
       "      <td>0.694530</td>\n",
       "    </tr>\n",
       "    <tr>\n",
       "      <th>2</th>\n",
       "      <td>0.502306</td>\n",
       "      <td>0.182831</td>\n",
       "      <td>0.870795</td>\n",
       "      <td>0.302210</td>\n",
       "      <td>0.686465</td>\n",
       "    </tr>\n",
       "    <tr>\n",
       "      <th>3</th>\n",
       "      <td>0.436930</td>\n",
       "      <td>0.106294</td>\n",
       "      <td>0.742562</td>\n",
       "      <td>0.185968</td>\n",
       "      <td>0.689028</td>\n",
       "    </tr>\n",
       "    <tr>\n",
       "      <th>4</th>\n",
       "      <td>0.462009</td>\n",
       "      <td>0.137159</td>\n",
       "      <td>0.758181</td>\n",
       "      <td>0.232295</td>\n",
       "      <td>0.679880</td>\n",
       "    </tr>\n",
       "    <tr>\n",
       "      <th>5</th>\n",
       "      <td>0.484904</td>\n",
       "      <td>0.130163</td>\n",
       "      <td>0.725911</td>\n",
       "      <td>0.220745</td>\n",
       "      <td>0.677665</td>\n",
       "    </tr>\n",
       "    <tr>\n",
       "      <th>6</th>\n",
       "      <td>0.506483</td>\n",
       "      <td>0.152241</td>\n",
       "      <td>0.680443</td>\n",
       "      <td>0.248813</td>\n",
       "      <td>0.674663</td>\n",
       "    </tr>\n",
       "    <tr>\n",
       "      <th>7</th>\n",
       "      <td>0.511136</td>\n",
       "      <td>0.133226</td>\n",
       "      <td>0.781751</td>\n",
       "      <td>0.227656</td>\n",
       "      <td>0.667014</td>\n",
       "    </tr>\n",
       "    <tr>\n",
       "      <th>8</th>\n",
       "      <td>0.488553</td>\n",
       "      <td>0.142218</td>\n",
       "      <td>0.824662</td>\n",
       "      <td>0.242598</td>\n",
       "      <td>0.669134</td>\n",
       "    </tr>\n",
       "    <tr>\n",
       "      <th>9</th>\n",
       "      <td>0.482123</td>\n",
       "      <td>0.119256</td>\n",
       "      <td>0.747618</td>\n",
       "      <td>0.205700</td>\n",
       "      <td>0.669923</td>\n",
       "    </tr>\n",
       "    <tr>\n",
       "      <th>10</th>\n",
       "      <td>0.469211</td>\n",
       "      <td>0.136891</td>\n",
       "      <td>0.707604</td>\n",
       "      <td>0.229403</td>\n",
       "      <td>0.663849</td>\n",
       "    </tr>\n",
       "  </tbody>\n",
       "</table>\n",
       "</div>"
      ],
      "text/plain": [
       "         acc       ppr      sens       dsc      loss\n",
       "0   0.428765  0.147216  0.731386  0.245098  0.693864\n",
       "1   0.442220  0.151885  0.832728  0.256912  0.694530\n",
       "2   0.502306  0.182831  0.870795  0.302210  0.686465\n",
       "3   0.436930  0.106294  0.742562  0.185968  0.689028\n",
       "4   0.462009  0.137159  0.758181  0.232295  0.679880\n",
       "5   0.484904  0.130163  0.725911  0.220745  0.677665\n",
       "6   0.506483  0.152241  0.680443  0.248813  0.674663\n",
       "7   0.511136  0.133226  0.781751  0.227656  0.667014\n",
       "8   0.488553  0.142218  0.824662  0.242598  0.669134\n",
       "9   0.482123  0.119256  0.747618  0.205700  0.669923\n",
       "10  0.469211  0.136891  0.707604  0.229403  0.663849"
      ]
     },
     "execution_count": 44,
     "metadata": {},
     "output_type": "execute_result"
    }
   ],
   "source": [
    "pd.DataFrame(performance)"
   ]
  },
  {
   "cell_type": "code",
   "execution_count": null,
   "metadata": {},
   "outputs": [],
   "source": []
  },
  {
   "cell_type": "code",
   "execution_count": null,
   "metadata": {},
   "outputs": [],
   "source": []
  },
  {
   "cell_type": "code",
   "execution_count": null,
   "metadata": {},
   "outputs": [],
   "source": [
    "\n"
   ]
  },
  {
   "cell_type": "code",
   "execution_count": null,
   "metadata": {},
   "outputs": [],
   "source": []
  },
  {
   "cell_type": "code",
   "execution_count": null,
   "metadata": {},
   "outputs": [],
   "source": []
  },
  {
   "cell_type": "code",
   "execution_count": null,
   "metadata": {},
   "outputs": [],
   "source": []
  },
  {
   "cell_type": "code",
   "execution_count": null,
   "metadata": {},
   "outputs": [],
   "source": []
  },
  {
   "cell_type": "code",
   "execution_count": null,
   "metadata": {},
   "outputs": [],
   "source": []
  },
  {
   "cell_type": "code",
   "execution_count": null,
   "metadata": {},
   "outputs": [],
   "source": []
  },
  {
   "cell_type": "code",
   "execution_count": null,
   "metadata": {},
   "outputs": [],
   "source": []
  },
  {
   "cell_type": "code",
   "execution_count": null,
   "metadata": {},
   "outputs": [],
   "source": []
  }
 ],
 "metadata": {
  "kernelspec": {
   "display_name": "pytorch",
   "language": "python",
   "name": "python3"
  },
  "language_info": {
   "codemirror_mode": {
    "name": "ipython",
    "version": 3
   },
   "file_extension": ".py",
   "mimetype": "text/x-python",
   "name": "python",
   "nbconvert_exporter": "python",
   "pygments_lexer": "ipython3",
   "version": "3.9.17"
  }
 },
 "nbformat": 4,
 "nbformat_minor": 2
}
